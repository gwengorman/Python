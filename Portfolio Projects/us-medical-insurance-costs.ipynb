{
 "cells": [
  {
   "cell_type": "markdown",
   "metadata": {},
   "source": [
    "# U.S. Medical Insurance Costs"
   ]
  },
  {
   "cell_type": "markdown",
   "metadata": {},
   "source": [
    "BASIC DATA SCIENCE ANALYSIS TO FIND AVERAGES USING LOOPS AND CREATE DICTIONARY"
   ]
  },
  {
   "cell_type": "code",
   "execution_count": 97,
   "metadata": {},
   "outputs": [
    {
     "name": "stdout",
     "output_type": "stream",
     "text": [
      "18 male 33.77 1 no southeast 1725.5523\n"
     ]
    }
   ],
   "source": [
    "#First I will import the csv and create lists from the columns\n",
    "import csv\n",
    "age = []\n",
    "sex = []\n",
    "bmi = []\n",
    "children = []\n",
    "smoker = []\n",
    "region = []\n",
    "charges = []\n",
    "with open('insurance.csv') as insurance_dataset:\n",
    "    dataset = csv.DictReader(insurance_dataset)\n",
    "    for row in dataset:\n",
    "        age.append(int(row['age']))\n",
    "        sex.append(row['sex'])\n",
    "        bmi.append(float(row['bmi']))\n",
    "        children.append(int(row['children']))\n",
    "        smoker.append(row['smoker'])\n",
    "        region.append(row['region'])\n",
    "        charges.append(float(row['charges']))\n",
    "print(age[1],sex[1],bmi[1],children[1],smoker[1],region[1],charges[1])\n"
   ]
  },
  {
   "cell_type": "code",
   "execution_count": 99,
   "metadata": {},
   "outputs": [
    {
     "name": "stdout",
     "output_type": "stream",
     "text": [
      "{19: {'Age': 19, 'Sex': 'female', 'BMI': 20.6, 'Children': 0, 'Smoker': 'no', 'Region': 'southwest', 'Cost': 1731.677}, 18: {'Age': 18, 'Sex': 'female', 'BMI': 36.85, 'Children': 0, 'Smoker': 'no', 'Region': 'southeast', 'Cost': 1629.8335}, 28: {'Age': 28, 'Sex': 'female', 'BMI': 26.51, 'Children': 2, 'Smoker': 'no', 'Region': 'southeast', 'Cost': 4340.4409}, 33: {'Age': 33, 'Sex': 'female', 'BMI': 26.695, 'Children': 0, 'Smoker': 'no', 'Region': 'northwest', 'Cost': 4571.41305}, 32: {'Age': 32, 'Sex': 'male', 'BMI': 28.12, 'Children': 4, 'Smoker': 'yes', 'Region': 'northwest', 'Cost': 21472.4788}, 31: {'Age': 31, 'Sex': 'male', 'BMI': 25.935, 'Children': 1, 'Smoker': 'no', 'Region': 'northwest', 'Cost': 4239.89265}, 46: {'Age': 46, 'Sex': 'male', 'BMI': 25.745, 'Children': 3, 'Smoker': 'no', 'Region': 'northwest', 'Cost': 9301.89355}, 37: {'Age': 37, 'Sex': 'male', 'BMI': 22.705, 'Children': 3, 'Smoker': 'no', 'Region': 'northeast', 'Cost': 6985.50695}, 60: {'Age': 60, 'Sex': 'male', 'BMI': 32.8, 'Children': 0, 'Smoker': 'yes', 'Region': 'southwest', 'Cost': 52590.82939}, 25: {'Age': 25, 'Sex': 'female', 'BMI': 30.2, 'Children': 0, 'Smoker': 'yes', 'Region': 'southwest', 'Cost': 33900.653}, 62: {'Age': 62, 'Sex': 'male', 'BMI': 38.83, 'Children': 0, 'Smoker': 'no', 'Region': 'southeast', 'Cost': 12981.3457}, 23: {'Age': 23, 'Sex': 'female', 'BMI': 33.4, 'Children': 0, 'Smoker': 'no', 'Region': 'southwest', 'Cost': 10795.93733}, 56: {'Age': 56, 'Sex': 'male', 'BMI': 34.43, 'Children': 0, 'Smoker': 'no', 'Region': 'southeast', 'Cost': 10594.2257}, 27: {'Age': 27, 'Sex': 'female', 'BMI': 31.255, 'Children': 1, 'Smoker': 'no', 'Region': 'northwest', 'Cost': 3956.07145}, 52: {'Age': 52, 'Sex': 'female', 'BMI': 44.7, 'Children': 3, 'Smoker': 'no', 'Region': 'southwest', 'Cost': 11411.685}, 30: {'Age': 30, 'Sex': 'female', 'BMI': 23.655, 'Children': 3, 'Smoker': 'yes', 'Region': 'northwest', 'Cost': 18765.87545}, 34: {'Age': 34, 'Sex': 'male', 'BMI': 42.9, 'Children': 1, 'Smoker': 'no', 'Region': 'southwest', 'Cost': 4536.259}, 59: {'Age': 59, 'Sex': 'male', 'BMI': 37.1, 'Children': 1, 'Smoker': 'no', 'Region': 'southwest', 'Cost': 12347.172}, 63: {'Age': 63, 'Sex': 'female', 'BMI': 21.66, 'Children': 0, 'Smoker': 'no', 'Region': 'northeast', 'Cost': 14449.8544}, 55: {'Age': 55, 'Sex': 'female', 'BMI': 30.5, 'Children': 0, 'Smoker': 'no', 'Region': 'southwest', 'Cost': 10704.47}, 22: {'Age': 22, 'Sex': 'female', 'BMI': 30.4, 'Children': 0, 'Smoker': 'no', 'Region': 'northeast', 'Cost': 2741.948}, 26: {'Age': 26, 'Sex': 'male', 'BMI': 27.06, 'Children': 0, 'Smoker': 'yes', 'Region': 'southeast', 'Cost': 17043.3414}, 35: {'Age': 35, 'Sex': 'male', 'BMI': 39.71, 'Children': 4, 'Smoker': 'no', 'Region': 'northeast', 'Cost': 19496.71917}, 24: {'Age': 24, 'Sex': 'female', 'BMI': 27.72, 'Children': 0, 'Smoker': 'no', 'Region': 'southeast', 'Cost': 2464.6188}, 41: {'Age': 41, 'Sex': 'male', 'BMI': 32.2, 'Children': 2, 'Smoker': 'no', 'Region': 'southwest', 'Cost': 6875.961}, 38: {'Age': 38, 'Sex': 'female', 'BMI': 19.95, 'Children': 2, 'Smoker': 'no', 'Region': 'northeast', 'Cost': 7133.9025}, 36: {'Age': 36, 'Sex': 'female', 'BMI': 25.9, 'Children': 1, 'Smoker': 'no', 'Region': 'southwest', 'Cost': 5472.449}, 21: {'Age': 21, 'Sex': 'female', 'BMI': 25.8, 'Children': 0, 'Smoker': 'no', 'Region': 'southwest', 'Cost': 2007.945}, 48: {'Age': 48, 'Sex': 'female', 'BMI': 33.33, 'Children': 0, 'Smoker': 'no', 'Region': 'southeast', 'Cost': 8283.6807}, 40: {'Age': 40, 'Sex': 'female', 'BMI': 29.3, 'Children': 4, 'Smoker': 'no', 'Region': 'southwest', 'Cost': 15828.82173}, 58: {'Age': 58, 'Sex': 'male', 'BMI': 25.175, 'Children': 0, 'Smoker': 'no', 'Region': 'northeast', 'Cost': 11931.12525}, 53: {'Age': 53, 'Sex': 'female', 'BMI': 36.86, 'Children': 3, 'Smoker': 'yes', 'Region': 'northwest', 'Cost': 46661.4424}, 43: {'Age': 43, 'Sex': 'male', 'BMI': 27.8, 'Children': 0, 'Smoker': 'yes', 'Region': 'southwest', 'Cost': 37829.7242}, 64: {'Age': 64, 'Sex': 'male', 'BMI': 23.76, 'Children': 0, 'Smoker': 'yes', 'Region': 'southeast', 'Cost': 26926.5144}, 20: {'Age': 20, 'Sex': 'male', 'BMI': 22.0, 'Children': 1, 'Smoker': 'no', 'Region': 'southwest', 'Cost': 1964.78}, 61: {'Age': 61, 'Sex': 'female', 'BMI': 29.07, 'Children': 0, 'Smoker': 'yes', 'Region': 'northwest', 'Cost': 29141.3603}, 44: {'Age': 44, 'Sex': 'male', 'BMI': 34.32, 'Children': 1, 'Smoker': 'no', 'Region': 'southeast', 'Cost': 7147.4728}, 57: {'Age': 57, 'Sex': 'female', 'BMI': 25.74, 'Children': 2, 'Smoker': 'no', 'Region': 'southeast', 'Cost': 12629.1656}, 29: {'Age': 29, 'Sex': 'female', 'BMI': 21.85, 'Children': 0, 'Smoker': 'yes', 'Region': 'northeast', 'Cost': 16115.3045}, 45: {'Age': 45, 'Sex': 'male', 'BMI': 30.36, 'Children': 0, 'Smoker': 'yes', 'Region': 'southeast', 'Cost': 62592.87309}, 54: {'Age': 54, 'Sex': 'female', 'BMI': 27.645, 'Children': 1, 'Smoker': 'no', 'Region': 'northwest', 'Cost': 11305.93455}, 49: {'Age': 49, 'Sex': 'female', 'BMI': 33.345, 'Children': 2, 'Smoker': 'no', 'Region': 'northeast', 'Cost': 10370.91255}, 47: {'Age': 47, 'Sex': 'female', 'BMI': 24.32, 'Children': 0, 'Smoker': 'no', 'Region': 'northeast', 'Cost': 8534.6718}, 51: {'Age': 51, 'Sex': 'male', 'BMI': 30.03, 'Children': 1, 'Smoker': 'no', 'Region': 'southeast', 'Cost': 9377.9047}, 42: {'Age': 42, 'Sex': 'female', 'BMI': 32.87, 'Children': 0, 'Smoker': 'no', 'Region': 'northeast', 'Cost': 7050.0213}, 50: {'Age': 50, 'Sex': 'male', 'BMI': 30.97, 'Children': 3, 'Smoker': 'no', 'Region': 'northwest', 'Cost': 10600.5483}, 39: {'Age': 39, 'Sex': 'female', 'BMI': 26.315, 'Children': 2, 'Smoker': 'no', 'Region': 'northwest', 'Cost': 7201.70085}}\n"
     ]
    }
   ],
   "source": [
    "#Next I will create a dictionary with the column headers as my key values#\n",
    "\n",
    "def dictionary(age, sex, bmi, children, smoker, region, charges):\n",
    "    dictionary = dict()\n",
    "    for i in range(len(age)):\n",
    "         dictionary[age[i]] = { \"Age\" : age[i],\n",
    "                           \"Sex\" : sex[i],\n",
    "                           \"BMI\" : bmi[i],\n",
    "                           \"Children\" : children[i],\n",
    "                           \"Smoker\" : smoker[i],\n",
    "                           \"Region\" : region[i],\n",
    "                           \"Cost\" : charges[i] }\n",
    "    return dictionary\n",
    "\n",
    "insurance_dict = dictionary(age, sex, bmi, children, smoker, region, charges)\n",
    "\n",
    "print(insurance_dict)"
   ]
  },
  {
   "cell_type": "code",
   "execution_count": 101,
   "metadata": {},
   "outputs": [
    {
     "name": "stdout",
     "output_type": "stream",
     "text": [
      "The average age is 39\n"
     ]
    }
   ],
   "source": [
    "#Now I will perform exploratory data analysis to find the mean and count of different variables\n",
    "\n",
    "#average age of observations\n",
    "average_age = round(sum(age) / len(age))\n",
    "print(\"The average age is \" + str(average_age))"
   ]
  },
  {
   "cell_type": "code",
   "execution_count": 103,
   "metadata": {},
   "outputs": [
    {
     "name": "stdout",
     "output_type": "stream",
     "text": [
      "The average number of children is 1\n"
     ]
    }
   ],
   "source": [
    "#average number of children\n",
    "average_children= round(sum(children) / len(children))\n",
    "print(\"The average number of children is \" + str(average_children))"
   ]
  },
  {
   "cell_type": "code",
   "execution_count": 105,
   "metadata": {},
   "outputs": [
    {
     "name": "stdout",
     "output_type": "stream",
     "text": [
      "The average BMI is 30.66\n"
     ]
    }
   ],
   "source": [
    "#average BMI\n",
    "average_BMI = round(sum(bmi) / len(bmi),2)\n",
    "print(\"The average BMI is \" + str(average_BMI))"
   ]
  },
  {
   "cell_type": "code",
   "execution_count": 107,
   "metadata": {},
   "outputs": [
    {
     "name": "stdout",
     "output_type": "stream",
     "text": [
      "Male count: 676\n",
      "Female count: 662\n"
     ]
    }
   ],
   "source": [
    "#count of male vs female\n",
    "male_count = 0\n",
    "female_count = 0\n",
    "for gender in sex:\n",
    "    if gender == 'male':\n",
    "        male_count += 1\n",
    "    elif gender == 'female':\n",
    "        female_count += 1\n",
    "print(\"Male count:\", male_count)\n",
    "print(\"Female count:\", female_count)"
   ]
  },
  {
   "cell_type": "code",
   "execution_count": 109,
   "metadata": {},
   "outputs": [
    {
     "name": "stdout",
     "output_type": "stream",
     "text": [
      "Smoker count: 274\n",
      "Nonsmoker count: 1064\n"
     ]
    }
   ],
   "source": [
    "#count of smoker vs nonsmoker\n",
    "smoker_count = 0\n",
    "nonsmoker_count = 0\n",
    "for smoking in smoker:\n",
    "    if smoking == 'yes':\n",
    "        smoker_count += 1\n",
    "    else:\n",
    "        nonsmoker_count += 1\n",
    "print(\"Smoker count:\", smoker_count)\n",
    "print(\"Nonsmoker count:\", nonsmoker_count)"
   ]
  },
  {
   "cell_type": "code",
   "execution_count": 117,
   "metadata": {},
   "outputs": [
    {
     "name": "stdout",
     "output_type": "stream",
     "text": [
      "Southeast Count: 364\n",
      "Southwest Count: 325\n",
      "Northeast Count: 324\n",
      "Northwest Count: 1014\n"
     ]
    }
   ],
   "source": [
    "#count of regions\n",
    "\n",
    "southeast_count = 0\n",
    "southwest_count = 0\n",
    "northeast_count = 0\n",
    "northwest_count = 0\n",
    "\n",
    "for area in region:\n",
    "    if area == 'southeast':\n",
    "        southeast_count += 1\n",
    "    if area == 'southwest':\n",
    "        southwest_count += 1\n",
    "    if area == 'northeast':\n",
    "        northeast_count += 1\n",
    "    else:\n",
    "        northwest_count += 1\n",
    "\n",
    "print(\"Southeast Count:\", southeast_count)\n",
    "print(\"Southwest Count:\", southwest_count)\n",
    "print(\"Northeast Count:\", northeast_count)\n",
    "print(\"Northwest Count:\", northwest_count)"
   ]
  },
  {
   "cell_type": "code",
   "execution_count": 119,
   "metadata": {},
   "outputs": [
    {
     "name": "stdout",
     "output_type": "stream",
     "text": [
      "The average cost is 13270.42\n"
     ]
    }
   ],
   "source": [
    "#Average cost of insurance\n",
    "average_cost = round(sum(charges) / len(charges),2)\n",
    "print(\"The average cost is \" + str(average_cost))"
   ]
  }
 ],
 "metadata": {
  "kernelspec": {
   "display_name": "Python 3 (ipykernel)",
   "language": "python",
   "name": "python3"
  },
  "language_info": {
   "codemirror_mode": {
    "name": "ipython",
    "version": 3
   },
   "file_extension": ".py",
   "mimetype": "text/x-python",
   "name": "python",
   "nbconvert_exporter": "python",
   "pygments_lexer": "ipython3",
   "version": "3.12.4"
  }
 },
 "nbformat": 4,
 "nbformat_minor": 4
}
