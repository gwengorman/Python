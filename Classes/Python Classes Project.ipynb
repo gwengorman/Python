{
 "cells": [
  {
   "cell_type": "markdown",
   "id": "1a35e711",
   "metadata": {},
   "source": [
    "# Python Classes: Medical Insurance Project"
   ]
  },
  {
   "cell_type": "markdown",
   "id": "f99e0aa0",
   "metadata": {},
   "source": [
    "You have been asked to develop a system that makes it easier to organize patient data. You will create a `class` that does the following:\n",
    "- Takes in patient parameters regarding their personal information\n",
    "- Contains methods that allow users to update their information\n",
    "- Gives patients insight into their potential medical fees.\n",
    "\n",
    "Let's get started!"
   ]
  },
  {
   "cell_type": "markdown",
   "id": "1fa7e1c0",
   "metadata": {},
   "source": [
    "## Building our Constructor"
   ]
  },
  {
   "cell_type": "markdown",
   "id": "a575e31d",
   "metadata": {},
   "source": [
    "1. If you look at the code block below, you will see that we have started a `class` called `Patient`. It currently has an `__init__` method with two class variables: `self.name` and `self.age`.\n",
    "\n",
    "   Let's start by adding in some more patient parameters:\n",
    "   - `sex`: patient's biological identification, 0 for male and 1 for female\n",
    "   - `bmi`: patient BMI\n",
    "   - `num_of_children`: number of children patient has\n",
    "   - `smoker`: patient smoking status, 0 for a non-smoker and 1 for a smoker\n",
    "   \n",
    "   Add these into the `__init__` method so that we can use them as we create our class methods."
   ]
  },
  {
   "cell_type": "code",
   "execution_count": 1,
   "id": "271950a3",
   "metadata": {},
   "outputs": [],
   "source": [
    "class Patient:\n",
    "    def __init__(self, name, age,sex,bmi,num_of_children,smoker):\n",
    "        self.name = name\n",
    "        self.age = age\n",
    "        self.bmi = bmi\n",
    "        self.sex = sex\n",
    "        self.num_of_children = num_of_children\n",
    "        self.smoker = smoker\n",
    "    def         "
   ]
  },
  {
   "cell_type": "markdown",
   "id": "3cfdd84f",
   "metadata": {},
   "source": [
    "2. Let's test out our `__init__` method and create our first instance variable.\n",
    "\n",
    "   Create an instance variable outside of our class called `patient1`.\n",
    "   ```py\n",
    "   patient1 = Patient(\"John Doe\", 25, 1, 22.2, 0, 0)\n",
    "   ```\n",
    "   \n",
    "   Next, print out the name of `patient1` using the following line of code:\n",
    "   ```py\n",
    "   print(patient1.name)\n",
    "   ```\n",
    "   \n",
    "   Print out the rest of `patient1`'s information to ensure the `__init__` method is functioning properly."
   ]
  },
  {
   "cell_type": "code",
   "execution_count": 17,
   "id": "2d9efff6",
   "metadata": {},
   "outputs": [
    {
     "data": {
      "text/plain": [
       "'John Doe'"
      ]
     },
     "execution_count": 17,
     "metadata": {},
     "output_type": "execute_result"
    }
   ],
   "source": [
    "patient1 = Patient(\"John Doe\", 25, 1, 22.2, 0, 0)\n",
    "patient1.name\n"
   ]
  },
  {
   "cell_type": "markdown",
   "id": "153c37a5",
   "metadata": {},
   "source": [
    "## Adding Functionality with Methods"
   ]
  },
  {
   "cell_type": "markdown",
   "id": "a2548fbe",
   "metadata": {},
   "source": [
    "3. Now that our constructor is built out and ready to go, let's start creating some methods! Our first method will be `estimated_insurance_cost()`, which takes our instance's parameters (representing our patient's information) and returns their expected yearly medical fees.\n",
    "\n",
    "   Below the `__init__` constructor, define our `estimated_insurance_cost()` constructor which only takes `self` as an argument. Inside of this method, add the following formula:\n",
    "   \n",
    "   $$\n",
    "   estimated\\_cost = 250*age - 128*sex + 370*bmi + 425*num\\_of\\_children + 24000*smoker - 12500\n",
    "   $$\n",
    "   \n",
    "   Note that we are using class variables in our formula here, so be sure to remember to use the `self` keyword."
   ]
  },
  {
   "cell_type": "code",
   "execution_count": 27,
   "id": "0592dd7b",
   "metadata": {},
   "outputs": [],
   "source": [
    "class Patient:\n",
    "    def __init__(self, name, age,sex,bmi,num_of_children,smoker):\n",
    "        self.name = name\n",
    "        self.age = age\n",
    "        self.bmi = bmi\n",
    "        self.sex = sex\n",
    "        self.num_of_children = num_of_children\n",
    "        self.smoker = smoker\n",
    "    def estimated_insurance_cost(self):\n",
    "        estimated_cost = 250*self.age - 128*self.sex + 370*self.bmi + 425*self.num_of_children + 24000*self.smoker - 12500\n",
    "        print(str(self.name) +'s estimated insurance costs is' + str(estimated_cost) + ' dollars.')"
   ]
  },
  {
   "cell_type": "markdown",
   "id": "88857f9c",
   "metadata": {},
   "source": [
    "4. Inside of our `estimated_insurance_cost()` method, let's add a print statement that displays the following:\n",
    "\n",
    "   ```\n",
    "   {Patient Name}'s estimated insurance costs is {estimated cost} dollars.\n",
    "   ```\n",
    "   \n",
    "   Then, test out this method using the `patient1` instance variable."
   ]
  },
  {
   "cell_type": "markdown",
   "id": "98623074",
   "metadata": {},
   "source": [
    "5. We already have one super useful method in our class! Let's add some more and make our `Patient` class even more powerful.\n",
    "\n",
    "   What if our patient recently had a birthday? Or had a fluctuation in weight? Or had a kid? Let's add some methods that allow us to update these parameters and recalculate the estimated medical fees in one swing.\n",
    "   \n",
    "   First, create an `update_age()` method. It should take in two arguments: `self` and `new_age`. In this method reassign `self.age` to `new_age`."
   ]
  },
  {
   "cell_type": "code",
   "execution_count": 51,
   "id": "c4e3366c",
   "metadata": {},
   "outputs": [],
   "source": [
    "class Patient:\n",
    "    def __init__(self, name, age,sex,bmi,num_of_children,smoker):\n",
    "        self.name = name\n",
    "        self.age = age\n",
    "        self.bmi = bmi\n",
    "        self.sex = sex\n",
    "        self.num_of_children = num_of_children\n",
    "        self.smoker = smoker\n",
    "    def estimated_insurance_cost(self):\n",
    "        estimated_cost = 250*self.age - 128*self.sex + 370*self.bmi + 425*self.num_of_children + 24000*self.smoker - 12500\n",
    "        print(str(self.name) +'s estimated insurance costs is' + str(estimated_cost) + ' dollars.')\n",
    "        \n",
    "    def update_age(self,new_age):\n",
    "        self.age = new_age\n",
    "        print(self.name + \" is now \" + str(self.age) + \" years old.\")\n",
    "\n",
    "patient1 = Patient(\"John Doe\", 25, 1, 22.2, 0, 0)\n"
   ]
  },
  {
   "cell_type": "markdown",
   "id": "a371c179",
   "metadata": {},
   "source": [
    "6. Let's flesh out this method some more!\n",
    "\n",
    "   Add a print statement that outputs the following statement:\n",
    "   ```\n",
    "   {Patient Name} is now {Patient Age} years old.\n",
    "   ```\n",
    "   \n",
    "   Test out your method using the `patient1` instance variable."
   ]
  },
  {
   "cell_type": "code",
   "execution_count": 54,
   "id": "39a0b425",
   "metadata": {},
   "outputs": [
    {
     "name": "stdout",
     "output_type": "stream",
     "text": [
      "John Doe is now 35 years old.\n"
     ]
    }
   ],
   "source": [
    "patient1.update_age(35)"
   ]
  },
  {
   "cell_type": "markdown",
   "id": "e776b1b7",
   "metadata": {},
   "source": [
    "7. We also want to see what the new insurance expenses are. Call the `estimated_insurance_cost()` method in `update_age()` using this line of code:\n",
    "\n",
    "   ```py\n",
    "   self.estimated_insurance_cost()\n",
    "   ```\n",
    "   \n",
    "   Test out your method with `patient1`."
   ]
  },
  {
   "cell_type": "code",
   "execution_count": 3,
   "id": "a26df486",
   "metadata": {},
   "outputs": [
    {
     "name": "stdout",
     "output_type": "stream",
     "text": [
      "John Does estimated insurance costs is 4336.0 dollars.\n",
      "John Doe is now 35 years old.\n"
     ]
    }
   ],
   "source": [
    "class Patient:\n",
    "    def __init__(self, name, age,sex,bmi,num_of_children,smoker):\n",
    "        self.name = name\n",
    "        self.age = age\n",
    "        self.bmi = bmi\n",
    "        self.sex = sex\n",
    "        self.num_of_children = num_of_children\n",
    "        self.smoker = smoker\n",
    "    def estimated_insurance_cost(self):\n",
    "        estimated_cost = 250*self.age - 128*self.sex + 370*self.bmi + 425*self.num_of_children + 24000*self.smoker - 12500\n",
    "        print(str(self.name) +'s estimated insurance costs is ' + str(estimated_cost) + ' dollars.')\n",
    "        \n",
    "    def update_age(self,new_age):\n",
    "        self.age = new_age\n",
    "        self.estimated_insurance_cost()\n",
    "        print(self.name + \" is now \" + str(self.age) + \" years old.\")\n",
    "\n",
    "patient1 = Patient(\"John Doe\", 25, 1, 22.2, 0, 0)\n",
    "patient1.update_age(35)"
   ]
  },
  {
   "cell_type": "markdown",
   "id": "c941f315",
   "metadata": {},
   "source": [
    "8. Let's make another update method that modifies the `num_of_children` parameter.\n",
    "\n",
    "   Below the `update_age()` method, define a new one called `update_num_children()`. This method should have two arguments, `self` and `new_num_children`. Inside the method, `self.num_of_children` should be set equal to `new_num_children`."
   ]
  },
  {
   "cell_type": "code",
   "execution_count": 15,
   "id": "cd98f4a6",
   "metadata": {},
   "outputs": [
    {
     "name": "stdout",
     "output_type": "stream",
     "text": [
      "John Does estimated insurance costs is 4336.0 dollars.\n",
      "John Doe is now 35 years old.\n",
      "John Does estimated insurance costs is 4761.0 dollars.\n",
      "John Doe has 1 child.\n"
     ]
    }
   ],
   "source": [
    "class Patient:\n",
    "    def __init__(self, name, age,sex,bmi,num_of_children,smoker):\n",
    "        self.name = name\n",
    "        self.age = age\n",
    "        self.bmi = bmi\n",
    "        self.sex = sex\n",
    "        self.num_of_children = num_of_children\n",
    "        self.smoker = smoker\n",
    "    def estimated_insurance_cost(self):\n",
    "        estimated_cost = 250*self.age - 128*self.sex + 370*self.bmi + 425*self.num_of_children + 24000*self.smoker - 12500\n",
    "        print(str(self.name) +'s estimated insurance costs is ' + str(estimated_cost) + ' dollars.')\n",
    "        \n",
    "    def update_age(self,new_age):\n",
    "        self.age = new_age\n",
    "        self.estimated_insurance_cost()\n",
    "        print(self.name + \" is now \" + str(self.age) + \" years old.\")\n",
    "\n",
    "\n",
    "    def update_num_children(self,new_num_children):\n",
    "        self.num_of_children = new_num_children\n",
    "        self.estimated_insurance_cost()\n",
    "        if self.num_of_children == 1:\n",
    "            print(str(self.name) + ' has ' + str(self.num_of_children) + ' child.')\n",
    "        else:\n",
    "            print(str(self.name) + ' has ' + str(self.num_of_children) + ' children.')\n",
    "\n",
    "patient1 = Patient(\"John Doe\", 25, 1, 22.2, 0, 0)\n",
    "patient1.update_age(35)\n",
    "patient1.update_num_children(1)"
   ]
  },
  {
   "cell_type": "markdown",
   "id": "affe25af",
   "metadata": {},
   "source": [
    "11. To finish off the `update_num_children()` method, let's call our `estimated_insurance_cost()` method at the end.\n",
    "\n",
    "    Use `patient1` to ensure that everything is functioning as expected!"
   ]
  },
  {
   "cell_type": "code",
   "execution_count": 21,
   "id": "376cb9e2",
   "metadata": {},
   "outputs": [
    {
     "name": "stdout",
     "output_type": "stream",
     "text": [
      "John Does estimated insurance costs is 4761.0 dollars.\n",
      "John Doe has 1 child.\n"
     ]
    }
   ],
   "source": [
    "patient1.update_num_children(1)"
   ]
  },
  {
   "cell_type": "markdown",
   "id": "8d03d380",
   "metadata": {},
   "source": [
    "## Storing Patient Information"
   ]
  },
  {
   "cell_type": "markdown",
   "id": "dd95a23f",
   "metadata": {},
   "source": [
    "12. Let's create one last method that uses a dictionary to store a patient's information in one convenient variable. We can use our parameters as the keys and their specific data as the values.\n",
    "\n",
    "    Define a method called `patient_profile()` that builds a dictionary called `patient_information` to hold all of our patient's information."
   ]
  },
  {
   "cell_type": "code",
   "execution_count": 34,
   "id": "1ce4289e",
   "metadata": {},
   "outputs": [],
   "source": [
    "class Patient:\n",
    "    def __init__(self, name, age,sex,bmi,num_of_children,smoker):\n",
    "        self.name = name\n",
    "        self.age = age\n",
    "        self.bmi = bmi\n",
    "        self.sex = sex\n",
    "        self.num_of_children = num_of_children\n",
    "        self.smoker = smoker\n",
    "    def estimated_insurance_cost(self):\n",
    "        estimated_cost = 250*self.age - 128*self.sex + 370*self.bmi + 425*self.num_of_children + 24000*self.smoker - 12500\n",
    "        print(str(self.name) +'s estimated insurance costs is ' + str(estimated_cost) + ' dollars.')\n",
    "        \n",
    "    def update_age(self,new_age):\n",
    "        self.age = new_age\n",
    "        self.estimated_insurance_cost()\n",
    "        print(self.name + \" is now \" + str(self.age) + \" years old.\")\n",
    "\n",
    "\n",
    "    def update_num_children(self,new_num_children):\n",
    "        self.num_of_children = new_num_children\n",
    "        self.estimated_insurance_cost()\n",
    "        if self.num_of_children == 1:\n",
    "            print(str(self.name) + ' has ' + str(self.num_of_children) + ' child.')\n",
    "        else:\n",
    "            print(str(self.name) + ' has ' + str(self.num_of_children) + ' children.')\n",
    "\n",
    "    def patient_profile(self):\n",
    "        patient_information = {}\n",
    "        patient_information[\"Name\"] = self.name\n",
    "        patient_information[\"Age\"] = self.age\n",
    "        patient_information[\"Sex\"] = self.sex\n",
    "        patient_information[\"BMI\"] = self.bmi\n",
    "        patient_information[\"Number of Children\"] = self.num_of_children\n",
    "        patient_information[\"Smoker\"] = self.smoker\n",
    "        return print(patient_information)\n",
    "\n",
    "patient1 = Patient(\"John Doe\", 25, 1, 22.2, 0, 0)\n"
   ]
  },
  {
   "cell_type": "markdown",
   "id": "a363090c",
   "metadata": {},
   "source": [
    "13. Let's test out our final method! Use `patient1` to call the method `patient_profile()`.\n",
    "\n",
    "    Remember that in `patient_profile()` we used a return statement rather than a print statement. In order to see our dictionary outputted, we must wrap a print statement around our method call."
   ]
  },
  {
   "cell_type": "code",
   "execution_count": 37,
   "id": "e83a02cf",
   "metadata": {},
   "outputs": [
    {
     "name": "stdout",
     "output_type": "stream",
     "text": [
      "{'Name': 'John Doe', 'Age': 25, 'Sex': 1, 'BMI': 22.2, 'Number of Children': 0, 'Smoker': 0}\n"
     ]
    }
   ],
   "source": [
    "patient1.patient_profile()"
   ]
  }
 ],
 "metadata": {
  "kernelspec": {
   "display_name": "Python 3 (ipykernel)",
   "language": "python",
   "name": "python3"
  },
  "language_info": {
   "codemirror_mode": {
    "name": "ipython",
    "version": 3
   },
   "file_extension": ".py",
   "mimetype": "text/x-python",
   "name": "python",
   "nbconvert_exporter": "python",
   "pygments_lexer": "ipython3",
   "version": "3.12.4"
  }
 },
 "nbformat": 4,
 "nbformat_minor": 5
}
